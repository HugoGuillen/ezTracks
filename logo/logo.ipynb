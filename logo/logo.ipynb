{
 "cells": [
  {
   "cell_type": "code",
   "execution_count": 23,
   "metadata": {},
   "outputs": [],
   "source": [
    "#http://patorjk.com/software/taag/\n",
    "#font: Doh\n",
    "import sys\n",
    "import os\n",
    "from os import path,listdir\n",
    "import matplotlib.pyplot as plt\n",
    "from string import ascii_lowercase\n",
    "import configparser\n",
    "import subprocess"
   ]
  },
  {
   "cell_type": "code",
   "execution_count": 14,
   "metadata": {},
   "outputs": [],
   "source": [
    "output_path = 'tracks'\n",
    "raw_path = 'tracks_raw'\n",
    "config_ini = 'config.ini'\n",
    "\n",
    "for folder in [output_path,raw_path]:\n",
    "    if not path.exists(folder):\n",
    "        os.makedirs(folder)\n",
    "with open('logo.txt','r') as f:\n",
    "    lines = f.readlines()\n",
    "lines = [l[:-1] for l in lines]"
   ]
  },
  {
   "cell_type": "code",
   "execution_count": 30,
   "metadata": {},
   "outputs": [],
   "source": [
    "call_merge = 'bedtools merge -i {input_bed} > {output_bed}'\n",
    "X = len(lines[0])\n",
    "Y = len(lines)\n",
    "_chr = 'chrLogo'\n",
    "str_tracks = []\n",
    "for j,line in enumerate(lines):\n",
    "    output_bed = path.join(raw_path,ascii_lowercase[j]+'.bed')\n",
    "    output_bed_merged = path.join(output_path,ascii_lowercase[j]+'.bed')\n",
    "    #print(output_bed)\n",
    "    f = open(output_bed,'w')\n",
    "    for i,ch in enumerate(line):\n",
    "        if ch!=' ':\n",
    "            f.write('\\t'.join([_chr,str(i),str(i+1)])+'\\n')\n",
    "    f.close()\n",
    "    call = call_merge.format(input_bed=output_bed,output_bed=output_bed_merged)\n",
    "    str_tracks.append('%s = %s'%(ascii_lowercase[j],output_bed_merged))\n",
    "    subprocess.call(call,shell=True)\n",
    "str_tracks='\\n'.join(str_tracks)"
   ]
  },
  {
   "cell_type": "code",
   "execution_count": 33,
   "metadata": {},
   "outputs": [],
   "source": [
    "config_tmp = \"\"\"[default]\n",
    "chr = chrLogo\n",
    "start = 0\n",
    "end = {X}\n",
    "output_path = output\n",
    "input_gtf = tracks/empty.gtf\n",
    "\n",
    "[tracks]\n",
    "#logo = tracks\n",
    "{tracks}\n",
    "\n",
    "[plot]\n",
    "output_img = logo_raw.png\n",
    "gtf_title = Logo\n",
    "gtf_height = 0\n",
    "padding = 0\n",
    "width = 40\n",
    "dpi = 100\n",
    "\"\"\"\n",
    "\n",
    "with open(config_ini,'w') as f:\n",
    "    f.write(config_tmp.format(X=X,tracks=str_tracks))    "
   ]
  },
  {
   "cell_type": "code",
   "execution_count": 26,
   "metadata": {},
   "outputs": [],
   "source": [
    "%%bash\n",
    "touch tracks/empty.gtf\n",
    "#conda install -c conda-forge imagemagick\n",
    "#cd logo\n",
    "#python ../eztracks.py check config.ini\n",
    "#python ../eztracks.py prepare config.ini\n",
    "#python ../eztracks.py draw config.ini\n",
    "#convert output/logo_raw.png -crop 1110x570+69+49  output/logo.png"
   ]
  }
 ],
 "metadata": {
  "kernelspec": {
   "display_name": "Python 3",
   "language": "python",
   "name": "python3"
  },
  "language_info": {
   "codemirror_mode": {
    "name": "ipython",
    "version": 3
   },
   "file_extension": ".py",
   "mimetype": "text/x-python",
   "name": "python",
   "nbconvert_exporter": "python",
   "pygments_lexer": "ipython3",
   "version": "3.7.6"
  }
 },
 "nbformat": 4,
 "nbformat_minor": 4
}
